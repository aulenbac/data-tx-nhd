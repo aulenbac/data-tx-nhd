{
 "cells": [
  {
   "cell_type": "markdown",
   "metadata": {},
   "source": [
    "This notebook describes how to access and assemble the pre-cached and prepped data files from ScienceBase to build out an aggregate national table in PostGIS and then build materialized views for use in the Biogeographic Information System. It builds on processes run from the cacheNHDRepoCatalogs.py and cacheFlowlineData.py scripts in this repo."
   ]
  },
  {
   "cell_type": "code",
   "execution_count": 1,
   "metadata": {},
   "outputs": [],
   "source": [
    "import requests\n",
    "from IPython.display import display\n",
    "\n",
    "def convert_size(size_bytes):\n",
    "    import math\n",
    "    if size_bytes == 0:\n",
    "        return \"0B\"\n",
    "    size_name = (\"B\", \"KB\", \"MB\", \"GB\", \"TB\", \"PB\", \"EB\", \"ZB\", \"YB\")\n",
    "    i = int(math.floor(math.log(size_bytes, 1024)))\n",
    "    p = math.pow(1024, i)\n",
    "    s = round(size_bytes / p, 2)\n",
    "    return \"%s %s\" % (s, size_name[i])"
   ]
  },
  {
   "cell_type": "code",
   "execution_count": 2,
   "metadata": {},
   "outputs": [],
   "source": [
    "parentId = '5644f3c1e4b0aafbcd0188f1' # ScienceBase ID for the Data Reference Library; our overall virtual repository for this kind of stuff\n",
    "tag = 'NHDPlusV1' # ScienceBase Tag applied to these particular items; essentially the mini-repositories for NHDPlusV1 data corresponding to FTP file directories\n",
    "scienceBaseQueryURL = f'https://www.sciencebase.gov/catalog/items?parentId={parentId}&filter=tags%3D{tag}&fields=files&format=json'"
   ]
  },
  {
   "cell_type": "code",
   "execution_count": 3,
   "metadata": {},
   "outputs": [],
   "source": [
    "processItems = requests.get(scienceBaseQueryURL).json()"
   ]
  },
  {
   "cell_type": "markdown",
   "metadata": {},
   "source": [
    "Cutting right to the chase, there's really not much to worry about at this point. All of the flow line files were created with a particular file name pattern. They are zipped shapefiles containing an extraction of just the flowline data from each individual processing unit. Some of the river basins/geographic regions contain more than one processing unit, so we need to pull the files we care about into a list.\n",
    "\n",
    "The idea from here will be to run a utility to rrab up these files and load them into PostGIS. I output the file name and size (in MB) just for reference. The only thing needed is the file URL to download the file to wherever it needs to go for loading to PostGIS."
   ]
  },
  {
   "cell_type": "code",
   "execution_count": 4,
   "metadata": {},
   "outputs": [
    {
     "name": "stdout",
     "output_type": "stream",
     "text": [
      "https://www.sciencebase.gov/catalog/file/get/5a3d5d1ee4b0d05ee8b8e6cc?f=__disk__18%2F11%2Fd5%2F1811d54f43ff8f06cdcb27e1ec47d5ed8390c868 NHDPlus05V01_03_NHD_FlowlineExtract.zip 165.44 MB\n",
      "https://www.sciencebase.gov/catalog/file/get/5a3d5d1ee4b0d05ee8b8e6cc?f=__disk__72%2Ff3%2Fcd%2F72f3cda315895d6f2ab90e94f8117463e3396af4 NHDPlus06V01_03_NHD_FlowlineExtract.zip 51.48 MB\n",
      "https://www.sciencebase.gov/catalog/file/get/5a3d5d1ee4b0d05ee8b8e6cc?f=__disk__9b%2Fda%2F33%2F9bda332a1534f5f67a3d966ca79d9ccf9f2d74f4 NHDPlus07V01_03_NHD_FlowlineExtract.zip 221.21 MB\n",
      "https://www.sciencebase.gov/catalog/file/get/5a3d5d1ee4b0d05ee8b8e6cc?f=__disk__73%2F47%2F0f%2F73470fd86aa137afff0a40464d57d348ea46cfa2 NHDPlus08V01_03_NHD_FlowlineExtract.zip 156.24 MB\n",
      "https://www.sciencebase.gov/catalog/file/get/5a3d5d1ee4b0d05ee8b8e6cc?f=__disk__06%2F73%2F9f%2F06739ff7687441135e9b328404336d794add0c33 NHDPlus10LV01_03_NHD_FlowlineExtract.zip 298.53 MB\n",
      "https://www.sciencebase.gov/catalog/file/get/5a3d5d1ee4b0d05ee8b8e6cc?f=__disk__f4%2Fbf%2F11%2Ff4bf1124f80e72e56723ba1447efeb6e7d1eee5a NHDPlus10UV01_03_NHD_FlowlineExtract.zip 349.58 MB\n",
      "https://www.sciencebase.gov/catalog/file/get/5a3d5d1ee4b0d05ee8b8e6cc?f=__disk__c9%2F88%2F6f%2Fc9886f67cc59aea89d49217e44fedd801d081873 NHDPlus11V01_03_NHD_FlowlineExtract.zip 272.94 MB\n",
      "https://www.sciencebase.gov/catalog/file/get/5a3d5690e4b0d05ee8b8e63f?f=__disk__9b%2F5f%2F2f%2F9b5f2f757321b59267d37964875df3f2a241dce0 NHDPlus04V01_02_NHD_FlowlineExtract.zip 121.77 MB\n",
      "https://www.sciencebase.gov/catalog/file/get/5a42780ee4b0d05ee8bbf11b?f=__disk__32%2F10%2Feb%2F3210eb2c15f5baf4c97c6f5f3054b37ef3978fd3 NHDPlus17V01_03_NHD_FlowlineExtract.zip 274.52 MB\n",
      "https://www.sciencebase.gov/catalog/file/get/5a3dc552e4b0d05ee8b8e8e7?f=__disk__4d%2F51%2Fb1%2F4d51b1af572ff5e9a116fbe56446e0728fc4352d NHDPlus12V01_02_NHD_FlowlineExtract.zip 113.82 MB\n",
      "https://www.sciencebase.gov/catalog/file/get/5a425e88e4b0d05ee8bbf108?f=__disk__0b%2F7a%2F18%2F0b7a18141a9e08886002fea453794d239d283c68 NHDPlus16V01_02_NHD_FlowlineExtract.zip 126.53 MB\n",
      "https://www.sciencebase.gov/catalog/file/get/5a428ae3e4b0d05ee8bbf4a0?f=__disk__7d%2F9c%2F2c%2F7d9c2cf3a065a9a37c2521f5bd161d93b034b407 NHDPlus18V01_02_NHD_FlowlineExtract.zip 165.71 MB\n",
      "https://www.sciencebase.gov/catalog/file/get/5a3d4353e4b0d05ee8b8e3f8?f=__disk__c8%2F77%2Fa5%2Fc877a571ec7909ada6bf4ef307606214a09bb9ac NHDPlus01V01_03_NHD_FlowlineExtract.zip 67.28 MB\n",
      "https://www.sciencebase.gov/catalog/file/get/5a3d41e9e4b0d05ee8b8e3e8?f=__disk__76%2F55%2F5f%2F76555fb20469ee7d19c6d9190bb93550465830ae NHDPlus09V01_02_NHD_FlowlineExtract.zip 38.51 MB\n",
      "https://www.sciencebase.gov/catalog/file/get/5a3dc9dee4b0d05ee8b8e8f6?f=__disk__df%2Ff5%2F3a%2Fdff53a5bfacb228772b103a7520e69d2686fa88f NHDPlus13V01_03_NHD_FlowlineExtract.zip 84.28 MB\n",
      "https://www.sciencebase.gov/catalog/file/get/5a3d5076e4b0d05ee8b8e60f?f=__disk__6a%2F64%2Fbe%2F6a64bedc46e1e810c65835f09e95c17d1be7b831 NHDPlus03V01_02_NHD_FlowlineExtract.zip 328.39 MB\n",
      "https://www.sciencebase.gov/catalog/file/get/5a3d4545e4b0d05ee8b8e418?f=__disk__3e%2Fc1%2Fd8%2F3ec1d845291d52868b41e55b60baba28845d8afb NHDPlus02V01_02_NHD_FlowlineExtract.zip 111.77 MB\n",
      "https://www.sciencebase.gov/catalog/file/get/5a3debb0e4b0d05ee8b8eba9?f=__disk__b3%2F06%2F4d%2Fb3064d8f2e55558e08989a0d2c793e61e02b9147 NHDPlus14V01_03_NHD_FlowlineExtract.zip 116.48 MB\n",
      "https://www.sciencebase.gov/catalog/file/get/5a3debb0e4b0d05ee8b8eba9?f=__disk__d2%2Faf%2F90%2Fd2af903659e7bed2bd9b2630714817ca6d6b7420 NHDPlus15V01_03_NHD_FlowlineExtract.zip 141.09 MB\n"
     ]
    }
   ],
   "source": [
    "filePattern = 'FlowlineExtract.zip'\n",
    "\n",
    "for item in processItems['items']:\n",
    "    for file in [f for f in item['files'] if f['name'].find(filePattern) > -1]:\n",
    "        print(file['url'], file['name'], convert_size(file['size']))"
   ]
  },
  {
   "cell_type": "markdown",
   "metadata": {},
   "source": [
    "One of the main things we need to do often in our work is find the stream segments from flowline data that are in some area of interest. There are a couple ways to do this, but the first one we need to stand up uses the expedient of establishing a point that is in the middle of the multiline geometry. The following SQL code will establish a materialized view from a notional table name for the aggregate data instantiated in PostGIS as nhd.nhdplusv1_flowline. This can be modified as needed for whatever we end up creating as schema/table.\n",
    "\n",
    "```\n",
    " SELECT transformed.gid,\n",
    "    transformed.ftype,\n",
    "    transformed.comid,\n",
    "    transformed.lengthkm,\n",
    "    (st_line_interpolate_point(st_linemerge(transformed.the_geom), (0.5)::double precision))::geometry(Point,5070) AS the_geom\n",
    "   FROM ( SELECT nhdplusv1_flowline.gid,\n",
    "            nhdplusv1_flowline.ftype,\n",
    "            nhdplusv1_flowline.comid,\n",
    "            nhdplusv1_flowline.lengthkm,\n",
    "            (st_transform(nhdplusv1_flowline.the_geom, 5070))::geometry(MultiLineString,5070) AS the_geom\n",
    "           FROM nhd.nhdplusv1_flowline) transformed;\n",
    "```"
   ]
  },
  {
   "cell_type": "code",
   "execution_count": null,
   "metadata": {},
   "outputs": [],
   "source": []
  }
 ],
 "metadata": {
  "kernelspec": {
   "display_name": "Python 3",
   "language": "python",
   "name": "python3"
  },
  "language_info": {
   "codemirror_mode": {
    "name": "ipython",
    "version": 3
   },
   "file_extension": ".py",
   "mimetype": "text/x-python",
   "name": "python",
   "nbconvert_exporter": "python",
   "pygments_lexer": "ipython3",
   "version": "3.6.4"
  }
 },
 "nbformat": 4,
 "nbformat_minor": 2
}
